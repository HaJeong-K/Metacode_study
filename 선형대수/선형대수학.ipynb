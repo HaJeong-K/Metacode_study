{
 "cells": [
  {
   "cell_type": "markdown",
   "id": "fa6aa9bc",
   "metadata": {},
   "source": [
    "# 기본 행렬"
   ]
  },
  {
   "cell_type": "code",
   "execution_count": 2,
   "id": "6e3305e7",
   "metadata": {},
   "outputs": [
    {
     "name": "stdout",
     "output_type": "stream",
     "text": [
      "[[ 1.  -2. ]\n",
      " [-0.5  1.5]]\n",
      "[[3 1]\n",
      " [4 2]]\n",
      "2.0000000000000004\n"
     ]
    }
   ],
   "source": [
    "import numpy as np\n",
    "\n",
    "A = np.array([[3, 4], [1, 2]])\n",
    "b = np.array([[1], [2]])\n",
    "C = A @ b\n",
    "D = np.linalg.inv(A) # 역행렬\n",
    "E = A.T # 좌우 대칭\n",
    "F = np.linalg.det(A) # 행렬식\n",
    "\n",
    "print(D)\n",
    "print(E)\n",
    "print(F)"
   ]
  },
  {
   "cell_type": "markdown",
   "id": "13e34503",
   "metadata": {},
   "source": [
    "# 회전 변환"
   ]
  },
  {
   "cell_type": "code",
   "execution_count": 3,
   "id": "748f1001",
   "metadata": {},
   "outputs": [
    {
     "name": "stdout",
     "output_type": "stream",
     "text": [
      "seterminant 7.071067811865476\n",
      "transformation [[ 0.70710678 -0.70710678]\n",
      " [ 0.70710678  0.70710678]]\n",
      "[[1.41421356]\n",
      " [2.82842712]]\n"
     ]
    }
   ],
   "source": [
    "A = np.array([[np.sqrt(5), 0], [np.sqrt(5), np.sqrt(10)]])\n",
    "B = np.array([[np.sqrt(10), np.sqrt(5)], [0, np.sqrt(5)]])\n",
    "print('seterminant', np.linalg.det(B))\n",
    "C = A @ np.linalg.inv(B)\n",
    "print('transformation', C)\n",
    "x = np.array([[3], [1]])\n",
    "y = C @ x\n",
    "\n",
    "print(y)"
   ]
  },
  {
   "cell_type": "markdown",
   "id": "2f1180b8",
   "metadata": {},
   "source": [
    "## 시각화"
   ]
  },
  {
   "cell_type": "code",
   "execution_count": 5,
   "id": "3c7177c9",
   "metadata": {},
   "outputs": [
    {
     "data": {
      "image/png": "[encoded data removed]",
      "text/plain": [
       "<Figure size 640x480 with 1 Axes>"
      ]
     },
     "metadata": {},
     "output_type": "display_data"
    }
   ],
   "source": [
    "import matplotlib.pyplot as plt\n",
    "fig = plt.figure()\n",
    "ax = fig.add_subplot(111)\n",
    "ax.scatter([0], [0])\n",
    "ax.scatter(x[0], x[1])\n",
    "ax.scatter(y[0], y[1])\n",
    "\n",
    "plt.xlim(-1, 4)\n",
    "plt.ylim(-1, 4)\n",
    "\n",
    "ax.set_aspect('equal')\n",
    "plt.show()\n",
    "\n",
    "# 첫 시작은 (0, 0)과 (3, 1) 에서 45도 회전된 것."
   ]
  },
  {
   "cell_type": "code",
   "execution_count": 7,
   "id": "0fd1c08b",
   "metadata": {},
   "outputs": [
    {
     "name": "stdout",
     "output_type": "stream",
     "text": [
      "[[4.23]\n",
      " [1.65]]\n"
     ]
    }
   ],
   "source": [
    "A = np.array([[3, 4], [1, 2]])\n",
    "v = np.array([[0.93], [0.36]])\n",
    "\n",
    "print(A @ v)"
   ]
  },
  {
   "cell_type": "code",
   "execution_count": 13,
   "id": "7fa35322",
   "metadata": {},
   "outputs": [],
   "source": [
    "import torch\n",
    "\n",
    "# 가중치 텐서, 자동미분을 통한 기울기 계산 가능\n",
    "W = torch.autograd.Variable(torch.randn((1,3)).type(torch.FloatTensor), requires_grad = True)\n",
    "X_train = np.random.normal(0, 1, size = (256, 3))\n",
    "Y_train = np.empty((X_train.shape[0], 1))\n",
    "for i in range(X_train.shape[0]):\n",
    "    Y_train[i,0] = 3 * X_train[i,0] + 4 * X_train[i,1] + 5 * X_train[i,2]"
   ]
  },
  {
   "cell_type": "code",
   "execution_count": 15,
   "id": "bd88dc64",
   "metadata": {},
   "outputs": [
    {
     "name": "stdout",
     "output_type": "stream",
     "text": [
      "0.03537323 [[3.0255861 4.025581  5.0253873]]\n",
      "0.004960569 [[3.014989  4.0148354 5.014308 ]]\n",
      "0.0029133977 [[3.0267444 4.0266204 5.026804 ]]\n",
      "0.00025950844 [[3.0146103 4.0147347 5.015033 ]]\n",
      "1.1771654e-06 [[3.0051324 4.0053444 5.0053535]]\n",
      "1.3040577e-05 [[3.0019307 4.0020814 5.001988 ]]\n",
      "3.221644e-06 [[3.0014699 4.0015507 5.001484 ]]\n",
      "1.5381495e-07 [[3.0015569 4.001601  5.0015707]]\n",
      "2.84494e-06 [[3.0013301 4.001359  5.001347 ]]\n",
      "2.6650184e-06 [[3.0006557 4.000675  5.0006695]]\n",
      "3.4078815e-07 [[2.9999402 3.9999511 4.9999475]]\n",
      "1.0881986e-07 [[2.9997077 3.999712  4.999709 ]]\n",
      "1.0109302e-07 [[2.99994   3.9999413 4.999939 ]]\n",
      "9.3871435e-09 [[3.000102  4.000102  5.0001006]]\n",
      "9.521883e-09 [[3.0000057 4.000005  5.0000043]]\n",
      "4.193807e-09 [[2.9999642 3.9999642 4.9999638]]\n",
      "5.757289e-13 [[3.0000162 4.000017  5.000017 ]]\n",
      "4.2065798e-10 [[3.0000002 4.0000005 5.0000005]]\n",
      "2.4424585e-10 [[2.9999948 3.9999945 4.9999943]]\n",
      "5.3900696e-11 [[3.0000048 4.0000043 5.000005 ]]\n"
     ]
    }
   ],
   "source": [
    "# Adam 옵티마이저를 생성하며, 학습률이 0.1로 설정\n",
    "optimizer = torch.optim.Adam([W], lr = 0.1)\n",
    "\n",
    "# 200번의 에폭 동안 반복하고, 각 에폭마다 모든 학습 데이터에 대해 예측값을 계산하며, 평균 제곱 오차 손실을 계산함\n",
    "for epoch in range(200):\n",
    "    for i in range(X_train.shape[0]):\n",
    "        Y_pred = (W.repeat([X_train.shape[0],1,1]) @ torch.FloatTensor(X_train).unsqueeze(2)).squeeze(2)\n",
    "    loss = torch.nn.functional.mse_loss(Y_pred, torch.FloatTensor(Y_train))\n",
    "    optimizer.zero_grad()\n",
    "    loss.backward()\n",
    "    optimizer.step()\n",
    "    \n",
    "    # 10 에폭마다 손실과 현재 가중치를 출력시킴\n",
    "    if epoch % 10 == 1:\n",
    "        print(loss.detach().numpy(), W.detach().numpy())\n",
    "        \n",
    "## 결과적으로 이 코드는 선형 회귀 모델을 학습해 입력 데이터인 X_train에 대한  Y_train 실제 라벨에 가깝게 하는 것을 목표로 함"
   ]
  },
  {
   "cell_type": "markdown",
   "id": "43eaed9a",
   "metadata": {},
   "source": [
    "- @ => 행렬 곱셈 연산자\n",
    "- unsqueeze(2) => 차원생성\n",
    "- squeeze(2) => 차원축소"
   ]
  }
 ],
 "metadata": {
  "kernelspec": {
   "display_name": "Python 3 (ipykernel)",
   "language": "python",
   "name": "python3"
  },
  "language_info": {
   "codemirror_mode": {
    "name": "ipython",
    "version": 3
   },
   "file_extension": ".py",
   "mimetype": "text/x-python",
   "name": "python",
   "nbconvert_exporter": "python",
   "pygments_lexer": "ipython3",
   "version": "3.10.9"
  }
 },
 "nbformat": 4,
 "nbformat_minor": 5
}
